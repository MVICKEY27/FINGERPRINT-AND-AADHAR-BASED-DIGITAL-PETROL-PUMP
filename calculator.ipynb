{
  "nbformat": 4,
  "nbformat_minor": 0,
  "metadata": {
    "colab": {
      "name": "calculator.ipynb",
      "version": "0.3.2",
      "provenance": [],
      "include_colab_link": true
    },
    "kernelspec": {
      "name": "python3",
      "display_name": "Python 3"
    }
  },
  "cells": [
    {
      "cell_type": "markdown",
      "metadata": {
        "id": "view-in-github",
        "colab_type": "text"
      },
      "source": [
        "<a href=\"https://colab.research.google.com/github/VIPINkumar-embedded/FINGERPRINT-AND-AADHAR-BASED-DIGITAL-PETROL-PUMP/blob/master/calculator.ipynb\" target=\"_parent\"><img src=\"https://colab.research.google.com/assets/colab-badge.svg\" alt=\"Open In Colab\"/></a>"
      ]
    },
    {
      "cell_type": "code",
      "metadata": {
        "id": "lCncBAEvnESp",
        "colab_type": "code",
        "colab": {
          "base_uri": "https://localhost:8080/",
          "height": 185
        },
        "outputId": "c2eb0a16-6158-4ca7-f4ce-ea6ad2b681be"
      },
      "source": [
        "import re\n",
        "\n",
        "print(\"welcome to our megical calculator\")\n",
        "\n",
        "run = True\n",
        "previous = 0\n",
        "\n",
        "def performMATH():\n",
        "    global run\n",
        "    global previous\n",
        "    equation = \"\"\n",
        "    if previous == 0 :\n",
        "        equation = input(\"enter equation\")\n",
        "    else:\n",
        "        equation = input(str(previous))\n",
        "\n",
        "    if equation == 'quit' :\n",
        "        run=False\n",
        "    else:\n",
        "        equation = re.sub('[a-zA-Z,.;()]','',equation)\n",
        "        if previous == 0 :\n",
        "            previous = eval(equation)\n",
        "        else:\n",
        "            previous = eval(str(previous)+equation)\n",
        "        print(\"you entered\", previous)\n",
        "\n",
        "while run:\n",
        "    performMATH()"
      ],
      "execution_count": 1,
      "outputs": [
        {
          "output_type": "stream",
          "text": [
            "welcome to our megical calculator\n",
            "enter equation58+9\n",
            "you entered 67\n",
            "67+8\n",
            "you entered 75\n",
            "75/5\n",
            "you entered 15.0\n",
            "15.0/4\n",
            "you entered 3.75\n",
            "3.75quit\n"
          ],
          "name": "stdout"
        }
      ]
    }
  ]
}